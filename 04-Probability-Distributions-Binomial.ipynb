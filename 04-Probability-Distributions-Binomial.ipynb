{
  "nbformat": 4,
  "nbformat_minor": 0,
  "metadata": {
    "colab": {
      "provenance": [],
      "toc_visible": true,
      "authorship_tag": "ABX9TyM235mEPeY1pkEo62wiMeqx",
      "include_colab_link": true
    },
    "kernelspec": {
      "name": "python3",
      "display_name": "Python 3"
    },
    "language_info": {
      "name": "python"
    }
  },
  "cells": [
    {
      "cell_type": "markdown",
      "metadata": {
        "id": "view-in-github",
        "colab_type": "text"
      },
      "source": [
        "<a href=\"https://colab.research.google.com/github/RohanRanshinge/causal-inference/blob/main/04-Probability-Distributions-Binomial.ipynb\" target=\"_parent\"><img src=\"https://colab.research.google.com/assets/colab-badge.svg\" alt=\"Open In Colab\"/></a>"
      ]
    },
    {
      "cell_type": "markdown",
      "source": [
        "# Chapter 3: Probability Distributions\n",
        "Probability distributions describe the likelihood of different outcomes for a random event.\n",
        "\n",
        "Here are a few ways to think about it:\n",
        "* It's a comprehensive description of the possible values a random variable can take and the probabilities associated with each of these values.\n",
        "* It can be viewed as a complete list of all potential outcomes, along with their respective probabilities.\n",
        "* Probability distributions offer a visual representation of all possible events and the probability of each occurring.\n",
        "\n",
        "## Probability Mass Function (PMF)\n",
        "A Probability Mass Function (PMF) is a function that provides the probability that a discrete random variable is exactly equal to a specific value.\n",
        "\n",
        "PMFs are useful when dealing with sample spaces composed of distinct, countable outcomes. For instance, a PMF can describe the probability of getting heads or tails in a coin flip, or the probability of rolling any specific face on a six-sided die.\n",
        "\n",
        "Let's see some commonly used distributions that use PMFs:\n"
      ],
      "metadata": {
        "id": "iLtkVhF4MhFI"
      }
    },
    {
      "cell_type": "markdown",
      "source": [
        "## Bernoulli Distribution\n",
        "The Bernoulli distribution is a discrete probability distribution that models a single trial of an experiment with precisely two possible outcomes: success or failure. It's  useful for situations where an event either happens or does not.\n",
        "\n",
        "We can try understanding it using a coin flip:\n",
        "* Let k = 1 for heads (success)\n",
        "* k = 0 for tails (failure)\n",
        "\n",
        "If p represents the probability of getting heads (success), then:\n",
        "* The probability of getting heads: $P(k=1|p) = p$\n",
        "* And the probability of getting tails: $P(k=0|p) = 1-p$\n",
        "\n",
        "Combining these, the Probability Mass Function (PMF) for the Bernoulli distribution is given by:\n",
        "$$P(k|p) = p^k *(1-p)^{1-k}$$\n",
        "Where\n",
        "* When k=1 (heads), the PMF simplifies to $p$\n",
        "* When k=0 (tails), the PMF simplifies to $1-p$\n",
        "\n",
        "This equation is also referred to as the **likelihood function**.\n",
        "\n",
        "Note: A Bernoulli distribution is a special case of the binomial distribution where the number of trials n=1 (this will make sense in the next section)\n"
      ],
      "metadata": {
        "id": "3NwKL5OeMwqy"
      }
    },
    {
      "cell_type": "markdown",
      "source": [
        "## Binomial Distribution\n",
        "Remember those questions we would get asked on what’s the probability of getting 5 heads in 6 coin tosses etc? Well it’s time to solve them!\n",
        "\n",
        "Enter Binomial Distributions!\n",
        "\n",
        "The Binomial distribution is a discrete probability distribution that calculates the probability of obtaining a certain number of successful outcomes (k) in a fixed number of independent trials (n), given a constant probability of success (p) for each trial.\n",
        "\n",
        "It displays all possible outcomes of k successes, within n trials with p probability.\n",
        "*(If this sounds confusing, don’t fret the example below should clear it up)*\n",
        "\n",
        "**“Bi”** in binomial refers to the two possible outcomes that we are concerned with: an event happening (success) or an event not happening (failure).\n",
        "\n",
        "All binomial distributions contain three parameters:\n",
        "* **k**: The number of outcomes we care about.\n",
        "* **n**: The number of trials\n",
        "* **p**: The probability of success on a single trial.\n",
        "\n",
        "The Binomial Probability Mass Function (PMF) is given by:\n",
        "\n",
        "$$B(k;n,p) =\\binom{n}{k} *p^k *(1-p)^{n-k} $$\n",
        "$$where \\binom{n}{k} = \\frac{n!}{k!  (n-k)!}$$\n",
        "\n",
        "Let's break this equation down:\n",
        "* $p^k$ represents the probability of observing k independent successes in one experiment.\n",
        "* $(1-p)^{n-k}$\trepresents the probability of observing (n-k) failures together.\n",
        "* $\\binom{n}{k}$ (also written as nCk or (n choose k)) is the binomial coefficient. This term accounts for all possible combinations in which k successes can occur within n trials.\n",
        "\n",
        "We typically describe a Binomial process using the notation:  \n",
        "$Y \\sim \\text{Binomial}(n, p)$   \n",
        "where $\\sim$ stands for \"is distributed as\"\n",
        "\n",
        "### Assumptions of the binomial distribution\n",
        "1. The trials are independent\n",
        "2. There are two possible outcomes (success and failure)\n",
        "3. The probability of success is constant across trials\n",
        "\n",
        "Using the above equation we can solve for any probabilities that have just 2 outcomes.  \n",
        "For eg: ***what is the probability of getting 5 heads in 6 coin tosses?***  \n",
        "\n",
        "$B(5;6,1/2) =\\binom{6}{5} *(1/2)^5 *(1/2)^{6-5} $\n",
        "\n",
        "### Plotting the Binomial Distribution\n",
        "How does the above equation look in code?\n",
        "\n",
        "The binom.pmf( ) function gives us the probability of seeing 5 heads in 6 coin tosses.\n"
      ],
      "metadata": {
        "id": "XVO67MebNcKG"
      }
    },
    {
      "cell_type": "code",
      "execution_count": 1,
      "metadata": {
        "colab": {
          "base_uri": "https://localhost:8080/"
        },
        "id": "eO_WmyndMZaq",
        "outputId": "4e8aaf44-5109-4950-b110-8e6494bfd954"
      },
      "outputs": [
        {
          "output_type": "execute_result",
          "data": {
            "text/plain": [
              "np.float64(0.09375000000000003)"
            ]
          },
          "metadata": {},
          "execution_count": 1
        }
      ],
      "source": [
        "from scipy.stats import binom\n",
        "binom.pmf(5,6,1/2)"
      ]
    },
    {
      "cell_type": "markdown",
      "source": [
        "Remember at the start of this chapter I had said, probability distributions offer a visual representation of all possible events and the probability of each occurring.\n",
        "\n",
        "So how would we visualize this?\n",
        "\n",
        "Well the above equation now allows us to calculate the probability for any k successes using a fixed n and p.\n"
      ],
      "metadata": {
        "id": "vA_h7vgFR8AF"
      }
    },
    {
      "cell_type": "code",
      "source": [
        "import matplotlib.pyplot as plt\n",
        "import numpy as np\n",
        "from scipy.stats import binom\n",
        "\n",
        "\n",
        "# Parameters for the binomial distribution\n",
        "n = 10  # Number of trials (coin tosses)\n",
        "p = 0.5  # Probability of success (getting heads)\n",
        "\n",
        "\n",
        "# Generate the x-axis values (number of heads)\n",
        "x = np.arange(0, n + 1)\n",
        "\n",
        "\n",
        "# Calculate the probabilities for each number of heads\n",
        "probs = binom.pmf(x, n, p)\n",
        "\n",
        "\n",
        "# Create the plot with a larger size\n",
        "plt.figure(figsize=(10, 6))  # Adjust the width and height as needed\n",
        "plt.bar(x, probs)\n",
        "\n",
        "\n",
        "# Add labels and title\n",
        "plt.xlabel(\"Number of Heads\")\n",
        "plt.ylabel(\"B(k; n, p)\")\n",
        "plt.title(\"Probability of getting heads when tossing a coin 10 times\")\n",
        "\n",
        "\n",
        "# Display the plot\n",
        "plt.show()"
      ],
      "metadata": {
        "colab": {
          "base_uri": "https://localhost:8080/",
          "height": 564
        },
        "id": "SF8yPm1IRz3n",
        "outputId": "2e0e8bdb-0660-40f5-a7d3-74c84506a069"
      },
      "execution_count": 2,
      "outputs": [
        {
          "output_type": "display_data",
          "data": {
            "text/plain": [
              "<Figure size 1000x600 with 1 Axes>"
            ],
            "image/png": "[encoded data removed]"
          },
          "metadata": {}
        }
      ]
    },
    {
      "cell_type": "markdown",
      "source": [
        "The above chart shows all possible events and the probability of each occurring when flipping a coin 10 times.\n"
      ],
      "metadata": {
        "id": "3g2ZweMlSCvJ"
      }
    },
    {
      "cell_type": "markdown",
      "source": [
        "Okay let’s look at another example using a fair sided die.  \n",
        "***Q2) What is the probability of getting four 5s when rolling a die 10 times***\n"
      ],
      "metadata": {
        "id": "rYwPbzcXSEWy"
      }
    },
    {
      "cell_type": "code",
      "source": [
        "from scipy.stats import binom\n",
        "binom.pmf(4,10,1/6)"
      ],
      "metadata": {
        "colab": {
          "base_uri": "https://localhost:8080/"
        },
        "id": "RJu8msPbR_oc",
        "outputId": "6da21d69-1d87-4e9d-86b0-e3bae8f72a51"
      },
      "execution_count": 3,
      "outputs": [
        {
          "output_type": "execute_result",
          "data": {
            "text/plain": [
              "np.float64(0.054265875850988195)"
            ]
          },
          "metadata": {},
          "execution_count": 3
        }
      ]
    },
    {
      "cell_type": "code",
      "source": [
        "import matplotlib.pyplot as plt\n",
        "import numpy as np\n",
        "from scipy.stats import binom\n",
        "\n",
        "\n",
        "# Parameters for the binomial distribution\n",
        "n = 10  # Number of trials\n",
        "p = 1/6  # Probability of success\n",
        "\n",
        "\n",
        "# Generate the x-axis values\n",
        "x = np.arange(0, n + 1)\n",
        "\n",
        "\n",
        "# Calculate the probabilities for each number of rolls\n",
        "probs = binom.pmf(x, n, p)\n",
        "\n",
        "\n",
        "# Create the plot with a larger size\n",
        "plt.figure(figsize=(10, 6))  # Adjust the width and height as needed\n",
        "plt.bar(x, probs)\n",
        "\n",
        "\n",
        "# Add labels and title\n",
        "plt.xlabel(\"Probability of getting k values when rolling a die 10 time\")\n",
        "plt.ylabel(\"B(k; 10, 1/6)\")\n",
        "plt.title(\"Probability of rolling a 5 in a six sided die when rolled 10 times\")\n",
        "\n",
        "\n",
        "# Display the plot\n",
        "plt.show()"
      ],
      "metadata": {
        "colab": {
          "base_uri": "https://localhost:8080/",
          "height": 564
        },
        "id": "Dn8sxGVYSOoE",
        "outputId": "8118a62e-2925-47ba-a2fa-71374e69a8d9"
      },
      "execution_count": 6,
      "outputs": [
        {
          "output_type": "display_data",
          "data": {
            "text/plain": [
              "<Figure size 1000x600 with 1 Axes>"
            ],
            "image/png": "[encoded data removed]"
          },
          "metadata": {}
        }
      ]
    },
    {
      "cell_type": "markdown",
      "source": [
        "If you are also asked the probability of getting **at least** four 5s when rolling a six sided die 10 times, you just have to add the bars of 4,5,6.\n"
      ],
      "metadata": {
        "id": "dnXQA6VySu6x"
      }
    },
    {
      "cell_type": "markdown",
      "source": [
        "What would that look like?\n"
      ],
      "metadata": {
        "id": "W6Y2E9nvTMVP"
      }
    },
    {
      "cell_type": "code",
      "source": [
        "from scipy.stats import binom\n",
        "n = 10\n",
        "p = 1/6\n",
        "# Calculate the probability using the survival function (1 - cdf)\n",
        "result = 1 - binom.cdf(3, n, p)\n",
        "result\n"
      ],
      "metadata": {
        "colab": {
          "base_uri": "https://localhost:8080/"
        },
        "id": "ZOKMLt0dSuow",
        "outputId": "82fe5232-0b51-4944-849f-5092247d4682"
      },
      "execution_count": 7,
      "outputs": [
        {
          "output_type": "execute_result",
          "data": {
            "text/plain": [
              "np.float64(0.0697278425544886)"
            ]
          },
          "metadata": {},
          "execution_count": 7
        }
      ]
    },
    {
      "cell_type": "markdown",
      "source": [
        "Translation: There’s a 7% chance that you will see that specific number show up 4 or more times in 10 throws.\n",
        "\n",
        "Now you may be wondering, oh coin flips and rolling a die are fine, but…\n"
      ],
      "metadata": {
        "id": "2bouQ8_CTTMr"
      }
    },
    {
      "cell_type": "markdown",
      "source": [
        "### How is this relevant to me?\n",
        "Let’s look at few other examples that might be helpful\n"
      ],
      "metadata": {
        "id": "jlMtNbjOTVV1"
      }
    },
    {
      "cell_type": "markdown",
      "source": [
        "**Example 1: e-commerce business**  \n",
        "An e-commerce website has a 2% conversion rate. If they have 500 visitors in a day, what is the probability that exactly 10 visitors make a purchase?\n"
      ],
      "metadata": {
        "id": "-YK49Q0DTX7-"
      }
    },
    {
      "cell_type": "code",
      "source": [
        "from scipy.stats import binom\n",
        "n = 500  # Total number of visitors (trials)\n",
        "p = 0.02  # Probability of a single visitor making a purchase (conversion rate)\n",
        "k = 10   # Number of purchases we are interested in (number of successes)\n",
        "# We want the probability of getting exactly 10 purchases, which is P(X = 10).\n",
        "result_ecommerce = binom.pmf(k, n, p)\n",
        "print(f\"Example 1 (E-commerce): The probability of exactly {k} purchases out of {n} visitors with a conversion rate of {p*100}% is: {result_ecommerce}\")"
      ],
      "metadata": {
        "colab": {
          "base_uri": "https://localhost:8080/"
        },
        "id": "Bhb4GTlrSRbp",
        "outputId": "a077a2e7-5628-4dec-a5b1-b89c8f1f334e"
      },
      "execution_count": 8,
      "outputs": [
        {
          "output_type": "stream",
          "name": "stdout",
          "text": [
            "Example 1 (E-commerce): The probability of exactly 10 purchases out of 500 visitors with a conversion rate of 2.0% is: 0.12637979106893046\n"
          ]
        }
      ]
    },
    {
      "cell_type": "markdown",
      "source": [
        "**Example 2: Stock market**   \n",
        "You pick 20 stocks, and there is a 5% chance that any single stock will be a \"10x bagger\".\n",
        "What is the probability of picking exactly 3 \"10x baggers\" out of the 20 stocks?\n",
        "\n"
      ],
      "metadata": {
        "id": "iCDSvNqBTjMH"
      }
    },
    {
      "cell_type": "code",
      "source": [
        "from scipy.stats import binom\n",
        "n = 20  # Number of stocks picked (trials)\n",
        "p = 0.05  # Probability of a single stock being a \"10x bagger\" (probability of success)\n",
        "k = 3   # Number of \"10x baggers\" we are interested in (number of successes)\n",
        "# We want the probability of getting exactly 3 \"10x baggers\", which is P(X = 3).\n",
        "result_stocks = binom.pmf(k, n, p)\n",
        "print(f\"Example 2 (Stock Market): The probability of picking exactly {k} '10x baggers' out of {n} stocks with a {p*100}% chance for each is: {result_stocks}\")\n"
      ],
      "metadata": {
        "colab": {
          "base_uri": "https://localhost:8080/"
        },
        "id": "PWRKgIkmTi8o",
        "outputId": "799a3247-e1dd-4311-fa64-1e3bfa79dd50"
      },
      "execution_count": 9,
      "outputs": [
        {
          "output_type": "stream",
          "name": "stdout",
          "text": [
            "Example 2 (Stock Market): The probability of picking exactly 3 '10x baggers' out of 20 stocks with a 5.0% chance for each is: 0.05958214776873281\n"
          ]
        }
      ]
    },
    {
      "cell_type": "markdown",
      "source": [
        "**Example 3: Exam**  \n",
        "You are taking a multiple-choice test with 15 questions, and each question has 4 possible answers. You didn't study and decided to guess randomly on every question. What is the probability that you get at least 8 questions correct?\n"
      ],
      "metadata": {
        "id": "v7QQ2bRFTtD_"
      }
    },
    {
      "cell_type": "code",
      "source": [
        "# Parameters for the binomial distribution\n",
        "n = 15  # Number of trials (questions)\n",
        "p = 1/4  # Probability of success (guessing correctly)\n",
        "# We want the probability of getting at least 8 questions correct, which is P(X >= 8).\n",
        "# This is equal to 1 - P(X <= 7).\n",
        "probability_scenario1 = 1 - binom.cdf(7, n, p)\n",
        "print(f\"The probability of getting at least 8 questions correct when guessing on 15 questions with 4 options each is: {probability_scenario1}\")"
      ],
      "metadata": {
        "colab": {
          "base_uri": "https://localhost:8080/"
        },
        "id": "OUBnwPGCTgJ4",
        "outputId": "1df9d080-721d-44b1-bf03-d727c71714f3"
      },
      "execution_count": 10,
      "outputs": [
        {
          "output_type": "stream",
          "name": "stdout",
          "text": [
            "The probability of getting at least 8 questions correct when guessing on 15 questions with 4 options each is: 0.017299838364124298\n"
          ]
        }
      ]
    },
    {
      "cell_type": "markdown",
      "source": [
        "Q3.1) Suppose you quickly read through some of the material before the test, and your probability of answering each question correctly increases to 1/3. Does this increase make you twice as likely to get at least 8 questions correct compared to guessing randomly on all 15 questions?"
      ],
      "metadata": {
        "id": "mrPor88fT0HG"
      }
    },
    {
      "cell_type": "code",
      "source": [
        "from scipy.stats import binom\n",
        "# Parameters for the second scenario (improved guessing probability)\n",
        "n_scenario2 = 15  # Number of questions (trials) remains the same\n",
        "p_scenario2 = 1/3  # New probability of guessing a question correctly\n",
        "# We want the probability of getting at least 8 questions correct, which is P(X >= 8).\n",
        "# This is equal to 1 - P(X < 8) = 1 - P(X <= 7).\n",
        "# So, we calculate the CDF at k=7 and subtract it from 1.\n",
        "probability_scenario2 = 1 - binom.cdf(7, n_scenario2, p_scenario2)\n",
        "print(f\"The probability of getting at least 8 out of {n_scenario2} questions correct with a {round(p_scenario2*100, 2)}% chance per question is: {probability_scenario2}\")\n",
        "# Compare the probabilities\n",
        "if probability_scenario2 >= 2 * probability_scenario1:\n",
        "   print(\"\\nYou are at least twice as likely to get at least 8 questions correct in the second scenario.\")\n",
        "else:\n",
        "   print(\"\\nYou are not twice as likely to get at least 8 questions correct in the second scenario.\")"
      ],
      "metadata": {
        "colab": {
          "base_uri": "https://localhost:8080/"
        },
        "id": "2WSkGKa9TyWm",
        "outputId": "cd04a414-1afc-468b-b2b9-456dda2f4fed"
      },
      "execution_count": 11,
      "outputs": [
        {
          "output_type": "stream",
          "name": "stdout",
          "text": [
            "The probability of getting at least 8 out of 15 questions correct with a 33.33% chance per question is: 0.08823159840676364\n",
            "\n",
            "You are at least twice as likely to get at least 8 questions correct in the second scenario.\n"
          ]
        }
      ]
    },
    {
      "cell_type": "markdown",
      "source": [
        "Okay time to take a break! We’ll look at Beta distributions next!"
      ],
      "metadata": {
        "id": "T0RSRi-QT-Aj"
      }
    }
  ]
}